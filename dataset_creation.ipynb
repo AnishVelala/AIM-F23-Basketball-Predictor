{
 "cells": [
  {
   "cell_type": "code",
   "execution_count": 182,
   "metadata": {},
   "outputs": [],
   "source": [
    "import pandas as pd\n",
    "\n",
    "\n",
    "teams = [\n",
    "    'ATL', 'BOS', 'NJN', 'CHA', 'CHI', 'CLE', \n",
    "    'DAL', 'DEN', 'DET', 'GSW', 'HOU', 'IND', \n",
    "    'LAC', 'LAL', 'MEM', 'MIA', 'MIL', 'MIN', \n",
    "    'NOH', 'NYK', 'OKC', 'ORL', 'PHI', 'PHO',\n",
    "    'POR', 'SAC', 'SAS', 'TOR', 'UTA', 'WAS'\n",
    "    ]\n",
    "\n"
   ]
  },
  {
   "cell_type": "code",
   "execution_count": 183,
   "metadata": {},
   "outputs": [
    {
     "name": "stdout",
     "output_type": "stream",
     "text": [
      "   Unnamed: 0 Unnamed: 1  Unnamed: 2 Unnamed: 3 Unnamed: 4 Unnamed: 5  \\\n",
      "0          Rk          G        Date        NaN        Opp        W/L   \n",
      "1           1          1  2022-10-19        NaN        HOU          W   \n",
      "2           2          2  2022-10-21        NaN        ORL          W   \n",
      "3           3          3  2022-10-23        NaN        CHO          L   \n",
      "4           4          4  2022-10-26          @        DET          W   \n",
      "..        ...        ...         ...        ...        ...        ...   \n",
      "78         78         78  2023-04-02        NaN        DAL          W   \n",
      "79         79         79  2023-04-04          @        CHI          W   \n",
      "80         80         80  2023-04-05        NaN        WAS          W   \n",
      "81         81         81  2023-04-07        NaN        PHI          L   \n",
      "82         82         82  2023-04-09          @        BOS          L   \n",
      "\n",
      "   Unnamed: 6 Unnamed: 7 Team Team.1  ... Opponent.6 Opponent.7 Opponent.8  \\\n",
      "0          Tm        Opp   FG    FGA  ...         FT        FTA        FT%   \n",
      "1         117        107   45     90  ...         14         15       .933   \n",
      "2         108         98   40     89  ...         24         30       .800   \n",
      "3         109        126   39     95  ...         21         30       .700   \n",
      "4         118        113   45     91  ...         15         22       .682   \n",
      "..        ...        ...  ...    ...  ...        ...        ...        ...   \n",
      "78        132        130   51    108  ...         22         32       .688   \n",
      "79        123        105   48     86  ...         16         20       .800   \n",
      "80        134        116   43     84  ...         20         26       .769   \n",
      "81        131        136   51     92  ...         23         29       .793   \n",
      "82        114        120   44     97  ...         11         14       .786   \n",
      "\n",
      "   Opponent.9 Opponent.10 Opponent.11 Opponent.12 Opponent.13 Opponent.14  \\\n",
      "0         ORB         TRB         AST         STL         BLK         TOV   \n",
      "1          15          54          25           4           3          15   \n",
      "2          10          44          16           9           7          19   \n",
      "3          14          52          28           7           6          13   \n",
      "4          10          40          23           4           6          13   \n",
      "..        ...         ...         ...         ...         ...         ...   \n",
      "78         10          47          24           4           3          14   \n",
      "79          6          32          16           8           6           8   \n",
      "80         12          39          23          10           9          14   \n",
      "81         13          52          33          10           2          20   \n",
      "82         12          47          33           5           3          15   \n",
      "\n",
      "   Opponent.15  \n",
      "0           PF  \n",
      "1           20  \n",
      "2           19  \n",
      "3           24  \n",
      "4           25  \n",
      "..         ...  \n",
      "78          15  \n",
      "79          18  \n",
      "80          26  \n",
      "81          22  \n",
      "82          13  \n",
      "\n",
      "[83 rows x 41 columns]\n"
     ]
    }
   ],
   "source": [
    "for team in ['ATL']:    \n",
    "    df1 = pd.read_csv(f'./data/{team}-22-23.csv') \n",
    "    print(df1)\n",
    "\n",
    "    df2 = pd.read_csv(f'./data/{team}-ADV-22-23.csv') \n",
    "    #print(df2)\n",
    "\n",
    "    df3 = pd.read_csv(f'./data/{team}-21-22.csv') \n",
    "    #print(df3)\n",
    "\n",
    "    df4 = pd.read_csv(f'./data/{team}-ADV-21-22.csv') \n",
    "    #print(df4)"
   ]
  },
  {
   "cell_type": "code",
   "execution_count": 184,
   "metadata": {},
   "outputs": [],
   "source": [
    "#Cleanup df1\n",
    "col_names = df1.iloc[0, :].to_list()\n",
    "\n",
    "col_names = col_names[:24]\n",
    "test = df1.iloc[:, 0:24]\n",
    "#drop first row\n",
    "test = test.drop([0])\n",
    "\n",
    "#rename home and away columns\n",
    "col_names[3] = \"H/A\"\n",
    "test.columns = col_names\n",
    "\n",
    "#drop unneeded columns\n",
    "test = test.drop(test.columns[[0,1]],axis = 1)\n",
    "\n",
    "test['H/A'] = test['H/A'].apply(lambda x: \"A\" if x == \"@\" else \"H\")\n",
    "test.columns = ['Date', 'H/A', 'Opp', 'W/L', 'Tm', 'Opp', 'FG', 'FGA', 'FG%', '3P', '3PA', '3P%', 'FT', 'FTA', 'FT%', 'ORB', 'TRB', 'AST', 'STL', 'BLK', 'TOV', 'PF']\n",
    "df1 = test"
   ]
  },
  {
   "cell_type": "code",
   "execution_count": 185,
   "metadata": {},
   "outputs": [],
   "source": [
    "#Cleanup df2\n",
    "col_names = df2.iloc[0, :].to_list()\n",
    "test = df2\n",
    "\n",
    "#drop first row\n",
    "test = test.drop([0])\n",
    "\n",
    "#rename Home and away column\n",
    "col_names[3] = \"H/A\"\n",
    "test.columns = col_names\n",
    "\n",
    "#drop unneeded columns\n",
    "test = test.drop(test.columns[[0,1,3,4,5,6,7,18,23]],axis = 1)\n",
    "\n",
    "test.columns = ['Date', 'ORtg', 'DRtg', 'Pace', 'FTr', '3PAr', 'TS%', 'TRB%', 'AST%', 'STL%', 'BLK%', 'OeFG%', 'OTOV%', 'OORB%', 'OFT/FGA', 'DeFG%', 'DTOV%', 'DDRB%', 'DFT/FGA']\n",
    "df2 = test"
   ]
  },
  {
   "cell_type": "code",
   "execution_count": 186,
   "metadata": {},
   "outputs": [],
   "source": [
    "#Cleanup df3\n",
    "col_names = df3.iloc[0, :].to_list()\n",
    "\n",
    "col_names = col_names[:24]\n",
    "test = df3.iloc[:, 0:24]\n",
    "#drop first row\n",
    "test = test.drop([0])\n",
    "\n",
    "#rename home and away columns\n",
    "col_names[3] = \"H/A\"\n",
    "test.columns = col_names\n",
    "\n",
    "#drop unneeded columns\n",
    "test = test.drop(test.columns[[0,1]],axis = 1)\n",
    "\n",
    "test['H/A'] = test['H/A'].apply(lambda x: \"A\" if x == \"@\" else \"H\")\n",
    "test.columns = ['Date', 'H/A', 'Opp', 'W/L', 'Tm', 'Opp', 'FG', 'FGA', 'FG%', '3P', '3PA', '3P%', 'FT', 'FTA', 'FT%', 'ORB', 'TRB', 'AST', 'STL', 'BLK', 'TOV', 'PF']\n",
    "df3 = test"
   ]
  },
  {
   "cell_type": "code",
   "execution_count": 187,
   "metadata": {},
   "outputs": [],
   "source": [
    "#Cleanup df4\n",
    "col_names = df4.iloc[0, :].to_list()\n",
    "test = df4\n",
    "\n",
    "#drop first row\n",
    "test = test.drop([0])\n",
    "\n",
    "#rename Home and away column\n",
    "col_names[3] = \"H/A\"\n",
    "test.columns = col_names\n",
    "\n",
    "#drop unneeded columns\n",
    "test = test.drop(test.columns[[0,1,3,4,5,6,7,18,23]],axis = 1)\n",
    "\n",
    "test.columns = ['Date', 'ORtg', 'DRtg', 'Pace', 'FTr', '3PAr', 'TS%', 'TRB%', 'AST%', 'STL%', 'BLK%', 'OeFG%', 'OTOV%', 'OORB%', 'OFT/FGA', 'DeFG%', 'DTOV%', 'DDRB%', 'DFT/FGA']\n",
    "df4 = test"
   ]
  },
  {
   "cell_type": "code",
   "execution_count": 188,
   "metadata": {},
   "outputs": [
    {
     "name": "stdout",
     "output_type": "stream",
     "text": [
      "          Date   ORtg   DRtg   Pace   FTr  3PAr   TS%  TRB%  AST%  STL%  ...  \\\n",
      "0   2022-10-19  114.3  104.5  102.4  .267  .278  .582  41.3  66.7  11.7  ...   \n",
      "1   2022-10-21  107.1   97.2  100.9  .180  .348  .562  51.1  65.0   9.9  ...   \n",
      "2   2022-10-23  108.7  125.7  100.2  .295  .368  .508  46.4  59.0   8.0  ...   \n",
      "3   2022-10-26  116.8  111.8  101.0  .275  .242  .578  53.5  48.9   5.9  ...   \n",
      "4   2022-10-28  139.8  115.1   97.3  .186  .299  .648  51.7  56.4   5.1  ...   \n",
      "..         ...    ...    ...    ...   ...   ...   ...   ...   ...   ...  ...   \n",
      "77  2023-04-02  120.7  118.9   99.0  .204  .324  .561  53.0  54.9   9.1  ...   \n",
      "78  2023-04-04  123.4  105.3   99.7  .221  .326  .652  60.0  54.2   5.0  ...   \n",
      "79  2023-04-05  129.0  111.6  103.9  .476  .357  .659  55.2  69.8   9.6  ...   \n",
      "80  2023-04-07  110.3  114.5  107.6  .304  .359  .628  42.2  62.7   9.3  ...   \n",
      "81  2023-04-09  118.6  124.8   96.1  .196  .402  .541  51.5  61.4  11.4  ...   \n",
      "\n",
      "    FT FTA   FT% ORB TRB AST STL BLK TOV  PF  \n",
      "0   20  24  .833   4  38  30  12   5   9  18  \n",
      "1   15  16  .938   9  46  26  10   2  17  22  \n",
      "2   23  28  .821  16  45  23   8   9  12  21  \n",
      "3   20  25  .800  10  46  22   6  12  12  20  \n",
      "4   14  18  .778  10  45  31   5   8   6  26  \n",
      "..  ..  ..   ...  ..  ..  ..  ..  ..  ..  ..  \n",
      "77  18  22  .818  16  53  28  10   3   9  22  \n",
      "78  17  19  .895   7  48  26   5   7  16  18  \n",
      "79  35  40  .875  12  48  30  10   5  16  23  \n",
      "80  19  28  .679   4  38  32  11   7  20  19  \n",
      "81  15  19  .789  16  50  27  11   5   9  12  \n",
      "\n",
      "[82 rows x 40 columns]\n"
     ]
    }
   ],
   "source": [
    "testdf = pd.merge(df2, df1, left_on='Date', right_on='Date')\n",
    "print(testdf)"
   ]
  }
 ],
 "metadata": {
  "kernelspec": {
   "display_name": "Python 3",
   "language": "python",
   "name": "python3"
  },
  "language_info": {
   "codemirror_mode": {
    "name": "ipython",
    "version": 3
   },
   "file_extension": ".py",
   "mimetype": "text/x-python",
   "name": "python",
   "nbconvert_exporter": "python",
   "pygments_lexer": "ipython3",
   "version": "3.10.7"
  }
 },
 "nbformat": 4,
 "nbformat_minor": 2
}
