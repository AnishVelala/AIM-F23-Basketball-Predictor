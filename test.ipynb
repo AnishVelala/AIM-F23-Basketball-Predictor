{
 "cells": [
  {
   "cell_type": "code",
   "execution_count": 1,
<<<<<<< HEAD
   "metadata": {},
   "outputs": [
    {
     "name": "stdout",
     "output_type": "stream",
     "text": [
      "Nevin\n"
     ]
    }
   ],
   "source": [
    "print(\"Nevin\")"
   ]
  },
  {
   "cell_type": "code",
   "execution_count": 2,
=======
>>>>>>> fe2b699dc8eb85d2b981a2e41fbc6b95ec64a648
   "metadata": {},
   "outputs": [
    {
     "name": "stdout",
     "output_type": "stream",
     "text": [
<<<<<<< HEAD
      "Om\n"
=======
      "Hello Wolrd\n"
>>>>>>> fe2b699dc8eb85d2b981a2e41fbc6b95ec64a648
     ]
    }
   ],
   "source": [
<<<<<<< HEAD
    "print(\"Om\")"
=======
    "print(\"Hello World!\")"
>>>>>>> fe2b699dc8eb85d2b981a2e41fbc6b95ec64a648
   ]
  },
  {
   "cell_type": "code",
   "execution_count": null,
   "metadata": {},
   "outputs": [],
   "source": []
  }
 ],
 "metadata": {
  "kernelspec": {
   "display_name": "Python 3",
   "language": "python",
   "name": "python3"
  },
  "language_info": {
   "codemirror_mode": {
    "name": "ipython",
    "version": 3
   },
   "file_extension": ".py",
   "mimetype": "text/x-python",
   "name": "python",
   "nbconvert_exporter": "python",
   "pygments_lexer": "ipython3",
   "version": "3.11.1"
  }
 },
 "nbformat": 4,
 "nbformat_minor": 2
}
