{
 "cells": [
  {
   "cell_type": "code",
<<<<<<< HEAD
   "execution_count": 1,
<<<<<<< HEAD
=======
   "execution_count": 2,
>>>>>>> 550fe7fc58ef14fb427bd1530588896b80203b1f
   "metadata": {},
   "outputs": [
    {
     "name": "stdout",
     "output_type": "stream",
     "text": [
<<<<<<< HEAD
      "Nevin\n"
=======
      "Hello World!\n"
>>>>>>> 550fe7fc58ef14fb427bd1530588896b80203b1f
     ]
    }
   ],
   "source": [
    "print(\"Nevin\")"
   ]
  },
  {
   "cell_type": "code",
   "execution_count": 2,
=======
>>>>>>> fe2b699dc8eb85d2b981a2e41fbc6b95ec64a648
   "metadata": {},
   "outputs": [
    {
     "name": "stdout",
     "output_type": "stream",
     "text": [
<<<<<<< HEAD
      "Om\n"
=======
      "Hello Wolrd\n"
>>>>>>> fe2b699dc8eb85d2b981a2e41fbc6b95ec64a648
     ]
    }
   ],
   "source": [
<<<<<<< HEAD
    "print(\"Om\")"
=======
    "print(\"Hello World!\")"
>>>>>>> fe2b699dc8eb85d2b981a2e41fbc6b95ec64a648
   ]
  },
  {
   "cell_type": "code",
   "execution_count": null,
   "metadata": {},
   "outputs": [],
   "source": []
  }
 ],
 "metadata": {
  "kernelspec": {
   "display_name": "Python 3",
   "language": "python",
   "name": "python3"
  },
  "language_info": {
   "codemirror_mode": {
    "name": "ipython",
    "version": 3
   },
   "file_extension": ".py",
   "mimetype": "text/x-python",
   "name": "python",
   "nbconvert_exporter": "python",
   "pygments_lexer": "ipython3",
   "version": "3.11.1"
  }
 },
 "nbformat": 4,
 "nbformat_minor": 2
}
